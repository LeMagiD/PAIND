{
 "cells": [
  {
   "cell_type": "markdown",
   "metadata": {},
   "source": [
    "# Reinforcement Learning demo with Q-table\n",
    "- Copy of RL_demo.ipynb \n",
    "- with the help of tutorial.ipynb and https://www.youtube.com/watch?v=Vrro7W7iW2w"
   ]
  },
  {
   "cell_type": "markdown",
   "metadata": {},
   "source": [
    "## import libs, initalize and plot environment "
   ]
  },
  {
   "cell_type": "code",
   "execution_count": null,
   "metadata": {},
   "outputs": [],
   "source": [
    "# import gym\n",
    "from enum import Enum\n",
    "import time\n",
    "import matplotlib.pyplot as plt\n",
    "import numpy as np\n",
    "import random\n",
    "from tqdm.notebook import trange\n",
    "# from gym.envs.toy_text.frozen_lake import generate_random_map\n",
    "from IPython.display import clear_output, display\n",
    "import pandas as pd\n",
    "# from scipy.spatial.distance import cityblock\n"
   ]
  },
  {
   "cell_type": "markdown",
   "metadata": {},
   "source": [
    "## Initialize Gym Environment (unused)\n"
   ]
  },
  {
   "cell_type": "code",
   "execution_count": null,
   "metadata": {},
   "outputs": [],
   "source": [
    "# # env=gym.make('FrozenLake-v1', desc=generate_random_map(size=8)) #for random map\n",
    "\n",
    "# # desc=[\"SFFF\", \"FHFH\", \"FFFH\", \"HFFG\"] # modify for different environment: S=Start, F=Frozen, H=Hole, G=Goal, Original Environment\n",
    "# desc=[\"SFHF\", \"HFHH\", \"HFFF\", \"HHHG\"] \n",
    "# env=gym.make(\"FrozenLake-v1\",map_name=\"4x4\",desc=desc,is_slippery=False)\n",
    "\n",
    "# env.reset()\n",
    "# env.render()"
   ]
  },
  {
   "cell_type": "markdown",
   "metadata": {},
   "source": [
    "## Initialize own environment"
   ]
  },
  {
   "cell_type": "code",
   "execution_count": null,
   "metadata": {},
   "outputs": [],
   "source": [
    "\n",
    "# def Set_Env_Dict(dictionary:dict,key,value:int,hole:bool,start:bool,end:bool):\n",
    "#     \"\"\"\n",
    "#     Do Stuff\n",
    "#     \"\"\"\n",
    "#     dictionary[key]={\"Q-Value\":value,\n",
    "#                     \"Hole\":hole,\n",
    "#                     \"Start\":start,\n",
    "#                     \"End\":end}\n",
    "#     return dictionary\n",
    "\n",
    "\n",
    "\n",
    "# env_dict = {0:{\"Q-Value\":0,\n",
    "#                \"Hole\":False,\n",
    "#                \"Start\":True,\n",
    "#                \"End\":False}}\n",
    "# for i in range(1,16):\n",
    "#     Set_Env_Dict(env_dict,i,)\n"
   ]
  },
  {
   "cell_type": "markdown",
   "metadata": {},
   "source": [
    "## Initialize some visualizing functions used further below"
   ]
  },
  {
   "cell_type": "code",
   "execution_count": null,
   "metadata": {},
   "outputs": [],
   "source": [
    "# todo: Passe Achsenbeschriftungen zu den States unds Actions an \n",
    "\n",
    "def plotQtable(data=np.zeros((16,4))) :  # data = 2d array describing the actions/state correlation  \n",
    "    clear_output(wait=True)\n",
    "    fig, ax = plt.subplots()\n",
    "    ax.table(cellText=data, loc='center')\n",
    "    # print(f\"printed the display\")   # debugging\n",
    "    display(fig)\n",
    "\n",
    "def updateQtablePlot(Udata):    # updates q-table, resets if no data is given\n",
    "    fig, ax = plt.subplots()\n",
    "    clear_output(wait=True)\n",
    "    ax.table(cellText=Udata, loc='center')\n",
    "    ax.axis(\"off\")\n",
    "    display(fig)"
   ]
  },
  {
   "cell_type": "markdown",
   "metadata": {},
   "source": [
    "## Test loop with random steps, no learning"
   ]
  },
  {
   "cell_type": "code",
   "execution_count": null,
   "metadata": {},
   "outputs": [],
   "source": [
    "# # ctrl+a ctrl+§ to toggle comment if in focus\n",
    "# iteration=0\n",
    "# while iteration<3:\n",
    "#     randAct=env.action_space.sample()\n",
    "#     returnVal=env.step(randAct)\n",
    "#     env.render()\n",
    "#     print(f\"Iteration: {iteration}, Action: {randAct}\")\n",
    "#     time.sleep(1)\n",
    "#     if returnVal[2]:\n",
    "#         env.reset()\n",
    "#         env.render()\n",
    "#         iteration+=1\n",
    "#         time.sleep(1)\n",
    "\n"
   ]
  },
  {
   "cell_type": "markdown",
   "metadata": {},
   "source": [
    "## Policies"
   ]
  },
  {
   "cell_type": "code",
   "execution_count": null,
   "metadata": {},
   "outputs": [],
   "source": [
    "\n",
    "def epsilon_greedy_policy(Qtable, state, epsilon):\n",
    "  \"\"\"\n",
    "  acting policy\n",
    "  1. Generates random number between 0 & 1\n",
    "  2. if number greater than epsilon -> exploitation (action with highest value to the current state) \n",
    "  3. else -> exploration (random action)\n",
    "  \"\"\"\n",
    "  random_int = random.uniform(0,1)\n",
    "  if random_int > epsilon:\n",
    "    action = np.argmax(Qtable[state])\n",
    "  else:\n",
    "    # action = random.sample([0,1,2,3],1)\n",
    "    action = random.randint(0,3)\n",
    "  return action\n",
    "\n",
    "def greedy_policy(Qtable, state):\n",
    "  \"\"\"\n",
    "  updating policy\n",
    "  \"\"\"\n",
    "  action = np.argmax(Qtable[state]) # the action that the agent should take in order to maximize its reward\n",
    "  return action"
   ]
  },
  {
   "cell_type": "markdown",
   "metadata": {},
   "source": [
    "## Create and Initialize the Q-table\n"
   ]
  },
  {
   "cell_type": "code",
   "execution_count": null,
   "metadata": {},
   "outputs": [],
   "source": [
    "class Action_Movements(Enum):\n",
    "    LEFT=-1\n",
    "    DOWN=4\n",
    "    RIGHT=1\n",
    "    UP=-4\n",
    "\n",
    "States = np.arange(0,16,1)\n",
    "state_space = len(States)\n",
    "action_space = len(Action_Movements)\n",
    "\n",
    "Qtable_frozenlake = np.zeros((state_space, action_space)) # create a 16 x 4 Array for the q-table\n",
    "plotQtable(Qtable_frozenlake) # <=========== todo: plot anpassen mit state & action beschreibung"
   ]
  },
  {
   "cell_type": "markdown",
   "metadata": {},
   "source": [
    "## Set up dictionary with information about Start, Hole and Goal"
   ]
  },
  {
   "cell_type": "code",
   "execution_count": null,
   "metadata": {},
   "outputs": [],
   "source": [
    "Start_state = 0\n",
    "Goal_state = 15\n",
    "hole_arr = [2, 3, 4, 6, 7, 8, 12, 13, 14]      # self defined placement of holes in Environment\n",
    "state_history=[]                            # to see history of state changes (debugging)\n",
    "action_history=[]                           # to see history of actions (debugging)\n",
    "\n",
    "env_dict = {Start_state:{\"Hole\":False,  \n",
    "               \"Start\":True,\n",
    "               \"Goal\":False}}\n",
    "for key in range(1,16):\n",
    "    env_dict[key] = {\"Hole\":False,\n",
    "                \"Start\":False,\n",
    "                \"Goal\":False}\n",
    "\n",
    "for key in hole_arr:        # Set holes in desired place, change hole_arr for other placement\n",
    "    env_dict[key][\"Hole\"]=True\n",
    "\n",
    "env_dict[Goal_state][\"Goal\"]=True\n"
   ]
  },
  {
   "cell_type": "markdown",
   "metadata": {},
   "source": [
    "## Create own Step Function"
   ]
  },
  {
   "cell_type": "code",
   "execution_count": null,
   "metadata": {},
   "outputs": [],
   "source": [
    "def own_step(state, action):\n",
    "    Goal = False\n",
    "\n",
    "    match action:   # Converting action from [0,1,2,3] to [-1,4,1,-4] -> second way is what happens in a 4x4 field if certain move is made\n",
    "        case 0:\n",
    "            action=Action_Movements.LEFT.value\n",
    "        case 1:\n",
    "            action=Action_Movements.DOWN.value\n",
    "        case 2:\n",
    "            action=Action_Movements.RIGHT.value\n",
    "        case 3:\n",
    "            action=Action_Movements.UP.value\n",
    "\n",
    "    newState = state + action   # newState is also the id or key for the dictionary\n",
    "    \n",
    "    if newState > state_space or newState < 0:\n",
    "        newState = state  # stay in same position if trying to go over the boundaries\n",
    "\n",
    "    if env_dict[newState][\"Hole\"]==True:    \n",
    "        reward = -10        # reward if fallen into a hole\n",
    "        newState = state    # stay in same state if trying to fall into a hole\n",
    "    elif env_dict[newState][\"Goal\"]==True:\n",
    "        reward=10       # reward if goal is reached\n",
    "        Goal=True       # goal is reached\n",
    "    else:\n",
    "        reward = -1     # reward for everything besides hole and goal\n",
    "    \n",
    "    return newState, reward, Goal"
   ]
  },
  {
   "cell_type": "markdown",
   "metadata": {},
   "source": [
    "## Hyperparameters"
   ]
  },
  {
   "cell_type": "code",
   "execution_count": null,
   "metadata": {},
   "outputs": [],
   "source": [
    "# Hyperparameters, finetuning will give better results\n",
    "\n",
    "# Training parameters\n",
    "n_training_episodes = 1000       # <================================== reduce for demo purpose, Original: 10000\n",
    "learning_rate = 0.7               # Original: 0.7\n",
    "\n",
    "# Evaluation parameters -> number of tries from the start till termination (hole or goal)\n",
    "n_eval_episodes = 100     \n",
    "\n",
    "# Environment parameters\n",
    "env_id = \"FrozenLake-v1\"   \n",
    "max_steps = 100            \n",
    "gamma = 0.95               \n",
    "eval_seed = []             \n",
    "\n",
    "# Exploration parameters\n",
    "max_epsilon = 1.0           \n",
    "min_epsilon = 0.05           \n",
    "decay_rate = 0.0005 # Original: decay_rate = 0.0005           "
   ]
  },
  {
   "cell_type": "markdown",
   "metadata": {},
   "source": [
    "### Show demo with rendering or show q-table, can't do both "
   ]
  },
  {
   "cell_type": "code",
   "execution_count": null,
   "metadata": {},
   "outputs": [],
   "source": [
    "show_qtable = True        # if FALSE: reduce n_training_episoded to 10 or 100, 10000 will take to long/ needs to be interrupted\n",
    "show_rendering = not show_qtable "
   ]
  },
  {
   "cell_type": "code",
   "execution_count": null,
   "metadata": {},
   "outputs": [],
   "source": [
    "def state_to_coords (state:int): \n",
    "    \"\"\"\n",
    "    takes the given state of an agent in a 4x4 matrix and converts them to x & y coordinats for the manhatten distance\n",
    "    only works, if the start is in the top left and the goal in the bottom right. x coords positive left to right, y coords positive top to bottom\n",
    "    sets the x coordinate with modulo 4 since the environment is 4x4, Ex: State 13, 13%4 = 1 = x coordinate (starting with 0)\n",
    "    sets the y coordinate with floor 4 since the environment is 4x4, Ex: State 13, 13//4 = 3 = y coordinate (starting with 0)\n",
    "    todo: (maybe) extend for bigger environments (for ex: 8x8 -> up to 64 states)\n",
    "\n",
    "        Variables:\n",
    "            State: an integer of value 0 to 15\n",
    "        Returns:\n",
    "            coords: an array with coords[0] = X-Coordinate & coords[1] = Y-Coordinate\n",
    "    \"\"\"\n",
    "    if state > 15: return False # if state is somehow bigger than the environment, return false, null or similar (error code also possible)\n",
    "    coords = [state % 4,state // 4]  \n",
    "\n",
    "    return coords"
   ]
  },
  {
   "cell_type": "markdown",
   "metadata": {},
   "source": [
    "## Model Training"
   ]
  },
  {
   "cell_type": "code",
   "execution_count": null,
   "metadata": {},
   "outputs": [],
   "source": [
    "def train(n_training_episodes, min_epsilon, max_epsilon, decay_rate, max_steps, Qtable):\n",
    "  for episode in trange(n_training_episodes):\n",
    " \n",
    "    epsilon = min_epsilon + (max_epsilon - min_epsilon)*np.exp(-decay_rate*episode)\n",
    "\n",
    "    # Reset the environment\n",
    "    state = Start_state\n",
    "    state_history.append(state)\n",
    "\n",
    "    if show_rendering:\n",
    "      print(f\"outer loop, episode {episode}\")\n",
    "\n",
    "    step = 0\n",
    "    done = False\n",
    "\n",
    "    # repeat\n",
    "    for step in range(max_steps): \n",
    "      action = epsilon_greedy_policy(Qtable, state, epsilon)\n",
    "      action_history.append(action)\n",
    "\n",
    "      # print(f\"step: {step},action: {action}\")\n",
    "   \n",
    "      new_state, reward, done = own_step(state, action)\n",
    "      state_history.append(new_state)  \n",
    "      \n",
    "      Qtable[state][action] = Qtable[state][action] + learning_rate * (reward + gamma * np.max(Qtable[new_state]) - Qtable[state][action])\n",
    "      \n",
    "      # If done, finish the episode\n",
    "      if done:\n",
    "        break\n",
    "     \n",
    "      # Our state is the new state\n",
    "      state = new_state\n",
    "  if show_qtable:\n",
    "    updateQtablePlot(Qtable)  # show resulting Q-table\n",
    "  return Qtable"
   ]
  },
  {
   "cell_type": "code",
   "execution_count": null,
   "metadata": {},
   "outputs": [],
   "source": [
    "#BEFORE RUNNING THIS CELL -> Check if the Nr of Iteration is the one you want to prevent waiting too long/needing to interrupt\n",
    "# Trains the Agent on this specific environment\n",
    "Qtable_frozenlake = train(n_training_episodes, min_epsilon, max_epsilon, decay_rate, max_steps, Qtable_frozenlake)"
   ]
  },
  {
   "cell_type": "markdown",
   "metadata": {},
   "source": [
    "### Save Q-Table to Excel"
   ]
  },
  {
   "cell_type": "code",
   "execution_count": null,
   "metadata": {},
   "outputs": [],
   "source": [
    "pdQtable = pd.DataFrame(Qtable_frozenlake)\n",
    "# pdQtable.to_Excel(\"Qtable_frozenlake.xlsx\") # not able to append as is \n",
    "# possible todo: append strings of states and/or actions to qtable so it is labeled in the excel\n",
    "with pd.ExcelWriter('Qtable_frozenlake.xlsx',mode='a',if_sheet_exists=\"new\") as writer: \n",
    "    pdQtable.to_excel(writer, sheet_name='noGymQTable1000')"
   ]
  },
  {
   "cell_type": "markdown",
   "metadata": {},
   "source": [
    "## Evaluation"
   ]
  },
  {
   "cell_type": "code",
   "execution_count": null,
   "metadata": {},
   "outputs": [],
   "source": [
    "def evaluate_agent(env, max_steps, n_eval_episodes, Q, seed):\n",
    "\n",
    "  episode_rewards = []\n",
    "  for episode in range(n_eval_episodes):\n",
    "    state = Start_state\n",
    "    step = 0\n",
    "    done = False\n",
    "    total_rewards_ep = 0\n",
    "   \n",
    "    for step in range(max_steps):\n",
    "      # Take the action (index) that have the maximum reward\n",
    "      # action = np.argmax(Q[state][:]) # todo: shouldn't here be the greedy_policy() ?\n",
    "      action = greedy_policy(Qtable_frozenlake,state)\n",
    "      new_state, reward, done, info = env.step(action)\n",
    "      total_rewards_ep += reward\n",
    "       \n",
    "      if done:\n",
    "        break\n",
    "      state = new_state\n",
    "    episode_rewards.append(total_rewards_ep)\n",
    "  mean_reward = np.mean(episode_rewards)\n",
    "  std_reward = np.std(episode_rewards)\n",
    "\n",
    "  return mean_reward, std_reward"
   ]
  }
 ],
 "metadata": {
  "kernelspec": {
   "display_name": "Python 3",
   "language": "python",
   "name": "python3"
  },
  "language_info": {
   "codemirror_mode": {
    "name": "ipython",
    "version": 3
   },
   "file_extension": ".py",
   "mimetype": "text/x-python",
   "name": "python",
   "nbconvert_exporter": "python",
   "pygments_lexer": "ipython3",
   "version": "3.11.3"
  }
 },
 "nbformat": 4,
 "nbformat_minor": 2
}
