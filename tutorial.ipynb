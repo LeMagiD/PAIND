{
 "cells": [
  {
   "cell_type": "markdown",
   "metadata": {},
   "source": [
    "# Q-Learning (Q-table)\n",
    " Erster Versuch einer Implementierung von Q-Learning\n",
    "### Mithilfe des Tutorials von https://www.datacamp.com/tutorial/introduction-q-learning-beginner-tutorial"
   ]
  },
  {
   "cell_type": "markdown",
   "metadata": {},
   "source": [
    " Die wichtigsten Begriffe:\n",
    " - Environment  : Die Umgebung, welche auf die Aktionen des Agent reagiert\n",
    " - Agent        : An entity that acts and operates within an environment\n",
    " - State        : Der momentane Zustand des Environment\n",
    " - Reward       : Die Rückmeldung des Environment darauf, ob eine Action gute oder schlechte Resultate erbracht hat (reward/penalty)\n",
    " - Action       : Eine vom Agent ausgeführte Aktion, welche dann Einfluss auf das Environment und die weiteren Actions hat\n",
    "\n",
    " ![Reinforcement Learning](pics\\RL_overview.webp)\n",
    " "
   ]
  },
  {
   "cell_type": "markdown",
   "metadata": {},
   "source": [
    "## Install, initialize and import stuff"
   ]
  },
  {
   "cell_type": "code",
   "execution_count": 1,
   "metadata": {},
   "outputs": [],
   "source": [
    "%%capture \n",
    "%pip install pyglet==1.5.1\n",
    "%pip install PyOpenGL   # %apt install python-opengL\n",
    "%pip install imageio[ffmpeg]    #%apt install ffmpeg\n",
    "# %apt install xvfb\n",
    "# %pip3 install pyvirtualdisplay\n"
   ]
  },
  {
   "cell_type": "code",
   "execution_count": 2,
   "metadata": {},
   "outputs": [],
   "source": [
    "# use this if used with WSL (for gif)\n",
    "# import os\n",
    "# from pyvirtualdisplay import Display\n",
    "# virtual_display = Display(visible=True, size=(1400,900))\n",
    "# os.environ[\"DISPLAY\"] = \"localhost:0.0\"  # Use \"localhost:0.0\" for Xming\n",
    "# virtual_display.start()\n"
   ]
  },
  {
   "cell_type": "code",
   "execution_count": 3,
   "metadata": {},
   "outputs": [
    {
     "name": "stdout",
     "output_type": "stream",
     "text": [
      "Requirement already satisfied: gym==0.24 in c:\\users\\xxx\\appdata\\local\\programs\\python\\python311\\lib\\site-packages (0.24.0)Note: you may need to restart the kernel to use updated packages.\n",
      "\n",
      "Requirement already satisfied: numpy>=1.18.0 in c:\\users\\xxx\\appdata\\local\\programs\\python\\python311\\lib\\site-packages (from gym==0.24) (1.26.0)\n",
      "Requirement already satisfied: cloudpickle>=1.2.0 in c:\\users\\xxx\\appdata\\local\\programs\\python\\python311\\lib\\site-packages (from gym==0.24) (3.0.0)\n",
      "Requirement already satisfied: gym-notices>=0.0.4 in c:\\users\\xxx\\appdata\\local\\programs\\python\\python311\\lib\\site-packages (from gym==0.24) (0.0.8)\n",
      "Requirement already satisfied: pygame in c:\\users\\xxx\\appdata\\local\\programs\\python\\python311\\lib\\site-packages (2.5.2)\n",
      "Note: you may need to restart the kernel to use updated packages.\n",
      "Requirement already satisfied: numpy in c:\\users\\xxx\\appdata\\local\\programs\\python\\python311\\lib\\site-packages (1.26.0)\n",
      "Note: you may need to restart the kernel to use updated packages.\n",
      "Requirement already satisfied: imageio in c:\\users\\xxx\\appdata\\local\\programs\\python\\python311\\lib\\site-packages (2.31.5)\n",
      "Requirement already satisfied: imageio_ffmpeg in c:\\users\\xxx\\appdata\\local\\programs\\python\\python311\\lib\\site-packages (0.4.9)\n",
      "Requirement already satisfied: numpy in c:\\users\\xxx\\appdata\\local\\programs\\python\\python311\\lib\\site-packages (from imageio) (1.26.0)\n",
      "Requirement already satisfied: pillow>=8.3.2 in c:\\users\\xxx\\appdata\\local\\programs\\python\\python311\\lib\\site-packages (from imageio) (10.0.1)\n",
      "Requirement already satisfied: setuptools in c:\\users\\xxx\\appdata\\local\\programs\\python\\python311\\lib\\site-packages (from imageio_ffmpeg) (65.5.0)\n",
      "Note: you may need to restart the kernel to use updated packages.\n",
      "Requirement already satisfied: tqdm in c:\\users\\xxx\\appdata\\local\\programs\\python\\python311\\lib\\site-packages (4.66.1)Note: you may need to restart the kernel to use updated packages.\n",
      "\n",
      "Requirement already satisfied: colorama in c:\\users\\xxx\\appdata\\roaming\\python\\python311\\site-packages (from tqdm) (0.4.6)\n"
     ]
    }
   ],
   "source": [
    "%pip install gym==0.24\n",
    "%pip install pygame\n",
    "%pip install numpy\n",
    "%pip install imageio imageio_ffmpeg\n",
    "%pip install tqdm"
   ]
  },
  {
   "cell_type": "code",
   "execution_count": 4,
   "metadata": {},
   "outputs": [
    {
     "name": "stderr",
     "output_type": "stream",
     "text": [
      "Warning: Gym version v0.24.0 has a number of critical issues with `gym.make` such that the `reset` and `step` functions are called before returning the environment. It is recommend to downgrading to v0.23.1 or upgrading to v0.25.1\n"
     ]
    }
   ],
   "source": [
    "import numpy as np\n",
    "import gym\n",
    "import random\n",
    "import imageio\n",
    "from tqdm.notebook import trange"
   ]
  },
  {
   "cell_type": "markdown",
   "metadata": {},
   "source": [
    "## Actual code"
   ]
  },
  {
   "cell_type": "code",
   "execution_count": 16,
   "metadata": {},
   "outputs": [
    {
     "name": "stdout",
     "output_type": "stream",
     "text": [
      "Observation Space Discrete(16)\n",
      "Sample observation 2\n"
     ]
    }
   ],
   "source": [
    "env = gym.make(\"FrozenLake-v1\",map_name=\"4x4\",is_slippery=False)\n",
    "env.reset()\n",
    "env.render()\n",
    "print(\"Observation Space\", env.observation_space) # prints out the observation space, which is the set of all possible states that the agent can observe in the environment.\n",
    "print(\"Sample observation\", env.observation_space.sample()) #  a randomly generated state from the observation space"
   ]
  },
  {
   "cell_type": "code",
   "execution_count": 6,
   "metadata": {},
   "outputs": [
    {
     "name": "stdout",
     "output_type": "stream",
     "text": [
      "Action Space Shape 4\n",
      "Action Space Sample 2\n"
     ]
    }
   ],
   "source": [
    "print(\"Action Space Shape\", env.action_space.n)\n",
    "print(\"Action Space Sample\", env.action_space.sample())"
   ]
  },
  {
   "cell_type": "markdown",
   "metadata": {},
   "source": [
    "### Create and Initialize the Q-table\n"
   ]
  },
  {
   "cell_type": "code",
   "execution_count": 7,
   "metadata": {},
   "outputs": [
    {
     "name": "stdout",
     "output_type": "stream",
     "text": [
      "There are  16  possible states\n",
      "There are  4  possible actions\n"
     ]
    }
   ],
   "source": [
    "state_space = env.observation_space.n\n",
    "print(\"There are \", state_space, \" possible states\")\n",
    "\n",
    "action_space = env.action_space.n\n",
    "print(\"There are \", action_space, \" possible actions\")\n",
    "\n",
    "Qtable_frozenlake = np.zeros((state_space, action_space)) # create a 16 x 4 Array for the q-table\n"
   ]
  },
  {
   "cell_type": "markdown",
   "metadata": {},
   "source": [
    "### Policies"
   ]
  },
  {
   "cell_type": "code",
   "execution_count": 8,
   "metadata": {},
   "outputs": [],
   "source": [
    "def epsilon_greedy_policy(Qtable, state, epsilon):\n",
    "  \"\"\"\n",
    "  acting policy\n",
    "  1. Generates random number between 0 & 1\n",
    "  2. if number greater than epsilon -> exploitation (action with highest value to the current state) \n",
    "  3. else -> exploration (random action)\n",
    "  \"\"\"\n",
    "  random_int = random.uniform(0,1)\n",
    "  if random_int > epsilon:\n",
    "    action = np.argmax(Qtable[state])\n",
    "  else:\n",
    "    action = env.action_space.sample()\n",
    "  return action\n",
    "\n",
    "def greedy_policy(Qtable, state):\n",
    "  \"\"\"\n",
    "  updating policy\n",
    "  \"\"\"\n",
    "  action = np.argmax(Qtable[state]) # the action that the agent should take in order to maximize its reward\n",
    "  return action"
   ]
  },
  {
   "cell_type": "markdown",
   "metadata": {},
   "source": [
    "### Hyperparameters"
   ]
  },
  {
   "cell_type": "code",
   "execution_count": 9,
   "metadata": {},
   "outputs": [],
   "source": [
    "# Hyperparameters, finetuning will give better results\n",
    "\n",
    "# Training parameters\n",
    "n_training_episodes = 10000\n",
    "learning_rate = 0.7        \n",
    "\n",
    "# Evaluation parameters -> number of tries from the start till termination (hole or goal)\n",
    "n_eval_episodes = 100      \n",
    "\n",
    "# Environment parameters\n",
    "env_id = \"FrozenLake-v1\"   \n",
    "max_steps = 99             \n",
    "gamma = 0.95               \n",
    "eval_seed = []             \n",
    "\n",
    "# Exploration parameters\n",
    "max_epsilon = 1.0           \n",
    "min_epsilon = 0.05           \n",
    "decay_rate = 0.0005           "
   ]
  },
  {
   "cell_type": "markdown",
   "metadata": {},
   "source": [
    "### Model Training"
   ]
  },
  {
   "cell_type": "code",
   "execution_count": 10,
   "metadata": {},
   "outputs": [],
   "source": [
    "def train(n_training_episodes, min_epsilon, max_epsilon, decay_rate, env, max_steps, Qtable):\n",
    "  for episode in trange(n_training_episodes):\n",
    " \n",
    "    epsilon = min_epsilon + (max_epsilon - min_epsilon)*np.exp(-decay_rate*episode)\n",
    "    # Reset the environment\n",
    "    state = env.reset()\n",
    "    step = 0\n",
    "    done = False\n",
    "\n",
    "    # repeat\n",
    "    for step in range(max_steps):\n",
    "   \n",
    "      action = epsilon_greedy_policy(Qtable, state, epsilon)\n",
    "\n",
    "   \n",
    "      new_state, reward, done, info = env.step(action)\n",
    "\n",
    "   \n",
    "      Qtable[state][action] = Qtable[state][action] + learning_rate * (reward + gamma * np.max(Qtable[new_state]) - Qtable[state][action])\n",
    "\n",
    "      # If done, finish the episode\n",
    "      if done:\n",
    "        break\n",
    "     \n",
    "      # Our state is the new state\n",
    "      state = new_state\n",
    "  return Qtable"
   ]
  },
  {
   "cell_type": "code",
   "execution_count": 11,
   "metadata": {},
   "outputs": [
    {
     "data": {
      "application/vnd.jupyter.widget-view+json": {
       "model_id": "0577fe82a9564006bda29267aa5a1460",
       "version_major": 2,
       "version_minor": 0
      },
      "text/plain": [
       "  0%|          | 0/10000 [00:00<?, ?it/s]"
      ]
     },
     "metadata": {},
     "output_type": "display_data"
    }
   ],
   "source": [
    "Qtable_frozenlake = train(n_training_episodes, min_epsilon, max_epsilon, decay_rate, env, max_steps, Qtable_frozenlake)"
   ]
  },
  {
   "cell_type": "code",
   "execution_count": 12,
   "metadata": {},
   "outputs": [
    {
     "data": {
      "text/plain": [
       "array([[0.73509189, 0.77378094, 0.77378094, 0.73509189],\n",
       "       [0.73509189, 0.        , 0.81450625, 0.77378094],\n",
       "       [0.77378094, 0.857375  , 0.77378094, 0.81450625],\n",
       "       [0.81450625, 0.        , 0.77378094, 0.77378094],\n",
       "       [0.77378094, 0.81450625, 0.        , 0.73509189],\n",
       "       [0.        , 0.        , 0.        , 0.        ],\n",
       "       [0.        , 0.9025    , 0.        , 0.81450625],\n",
       "       [0.        , 0.        , 0.        , 0.        ],\n",
       "       [0.81450625, 0.        , 0.857375  , 0.77378094],\n",
       "       [0.81450625, 0.9025    , 0.9025    , 0.        ],\n",
       "       [0.857375  , 0.95      , 0.        , 0.857375  ],\n",
       "       [0.        , 0.        , 0.        , 0.        ],\n",
       "       [0.        , 0.        , 0.        , 0.        ],\n",
       "       [0.        , 0.9025    , 0.95      , 0.857375  ],\n",
       "       [0.9025    , 0.95      , 1.        , 0.9025    ],\n",
       "       [0.        , 0.        , 0.        , 0.        ]])"
      ]
     },
     "execution_count": 12,
     "metadata": {},
     "output_type": "execute_result"
    }
   ],
   "source": [
    "Qtable_frozenlake"
   ]
  },
  {
   "cell_type": "markdown",
   "metadata": {},
   "source": [
    "### Evaluation"
   ]
  },
  {
   "cell_type": "code",
   "execution_count": 13,
   "metadata": {},
   "outputs": [],
   "source": [
    "def evaluate_agent(env, max_steps, n_eval_episodes, Q, seed):\n",
    "\n",
    "  episode_rewards = []\n",
    "  for episode in range(n_eval_episodes):\n",
    "    if seed:\n",
    "      state = env.reset(seed=seed[episode])\n",
    "    else:\n",
    "      state = env.reset()\n",
    "    step = 0\n",
    "    done = False\n",
    "    total_rewards_ep = 0\n",
    "   \n",
    "    for step in range(max_steps):\n",
    "      # Take the action (index) that have the maximum reward\n",
    "      action = np.argmax(Q[state][:])\n",
    "      new_state, reward, done, info = env.step(action)\n",
    "      total_rewards_ep += reward\n",
    "       \n",
    "      if done:\n",
    "        break\n",
    "      state = new_state\n",
    "    episode_rewards.append(total_rewards_ep)\n",
    "  mean_reward = np.mean(episode_rewards)\n",
    "  std_reward = np.std(episode_rewards)\n",
    "\n",
    "  return mean_reward, std_reward"
   ]
  },
  {
   "cell_type": "code",
   "execution_count": 14,
   "metadata": {},
   "outputs": [
    {
     "name": "stdout",
     "output_type": "stream",
     "text": [
      "Mean_reward=1.00 +/- 0.00\n"
     ]
    }
   ],
   "source": [
    "# Evaluate our Agent\n",
    "mean_reward, std_reward = evaluate_agent(env, max_steps, n_eval_episodes, Qtable_frozenlake, eval_seed)\n",
    "print(f\"Mean_reward={mean_reward:.2f} +/- {std_reward:.2f}\")\n"
   ]
  },
  {
   "cell_type": "markdown",
   "metadata": {},
   "source": [
    "### Visualizing the Result"
   ]
  },
  {
   "cell_type": "code",
   "execution_count": 15,
   "metadata": {},
   "outputs": [],
   "source": [
    "# TODO ändere den code so, dass es nicht ein gif erstellt, sondern die verschiedenen frames als einzelne bilder ausgibt"
   ]
  }
 ],
 "metadata": {
  "kernelspec": {
   "display_name": "Python 3",
   "language": "python",
   "name": "python3"
  },
  "language_info": {
   "codemirror_mode": {
    "name": "ipython",
    "version": 3
   },
   "file_extension": ".py",
   "mimetype": "text/x-python",
   "name": "python",
   "nbconvert_exporter": "python",
   "pygments_lexer": "ipython3",
   "version": "3.11.3"
  }
 },
 "nbformat": 4,
 "nbformat_minor": 2
}
