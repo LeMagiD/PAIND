{
 "cells": [
  {
   "cell_type": "markdown",
   "metadata": {},
   "source": [
    "# Reinforcement Learning demo with Q-table\n",
    "with the help of tutorial.ipynb and https://www.youtube.com/watch?v=Vrro7W7iW2w"
   ]
  },
  {
   "cell_type": "markdown",
   "metadata": {},
   "source": [
    "## import libs, initalize and plot environment "
   ]
  },
  {
   "cell_type": "code",
   "execution_count": null,
   "metadata": {},
   "outputs": [],
   "source": [
    "import gym\n",
    "import time\n",
    "import matplotlib.pyplot as plt\n",
    "import numpy as np\n",
    "import random\n",
    "from tqdm.notebook import trange\n",
    "from gym.envs.toy_text.frozen_lake import generate_random_map\n",
    "from IPython.display import clear_output, display\n",
    "import pandas as pd\n"
   ]
  },
  {
   "cell_type": "code",
   "execution_count": null,
   "metadata": {},
   "outputs": [],
   "source": [
    "# env=gym.make('FrozenLake-v1', desc=generate_random_map(size=8)) #for random map\n",
    "\n",
    "desc=[\"SFFF\", \"FHFH\", \"FFFH\", \"HFFG\"] # modify for different environment: S=Start, F=Frozen, H=Hole, G=Goal\n",
    "env=gym.make(\"FrozenLake-v1\",map_name=\"4x4\",desc=desc,is_slippery=False)\n",
    "\n",
    "env.reset()\n",
    "env.render()"
   ]
  },
  {
   "cell_type": "markdown",
   "metadata": {},
   "source": [
    "## Initialize some visualizing functions used further below"
   ]
  },
  {
   "cell_type": "code",
   "execution_count": null,
   "metadata": {},
   "outputs": [],
   "source": [
    "# todo: Passe Achsenbeschriftungen zu den States unds Actions an \n",
    "\n",
    "def plotQtable(data=np.zeros((16,4))) :  # data = 2d array describing the actions/state correlation  \n",
    "    clear_output(wait=True)\n",
    "    fig, ax = plt.subplots()\n",
    "    ax.table(cellText=data, loc='center')\n",
    "    # print(f\"printed the display\")   # debugging\n",
    "    display(fig)\n",
    "\n",
    "def updateQtablePlot(Udata):    # updates q-table, resets if no data is given\n",
    "    fig, ax = plt.subplots()\n",
    "    clear_output(wait=True)\n",
    "    ax.table(cellText=Udata, loc='center')\n",
    "    ax.axis(\"off\")\n",
    "    display(fig)"
   ]
  },
  {
   "cell_type": "markdown",
   "metadata": {},
   "source": [
    "## Test loop with random steps, no learning"
   ]
  },
  {
   "cell_type": "code",
   "execution_count": null,
   "metadata": {},
   "outputs": [],
   "source": [
    "# # ctrl+a ctrl+§ to toggle comment\n",
    "# iteration=0\n",
    "# while iteration<3:\n",
    "#     randAct=env.action_space.sample()\n",
    "#     returnVal=env.step(randAct)\n",
    "#     env.render()\n",
    "#     print(f\"Iteration: {iteration}, Action: {randAct}\")\n",
    "#     time.sleep(1)\n",
    "#     if returnVal[2]:\n",
    "#         env.reset()\n",
    "#         env.render()\n",
    "#         iteration+=1\n",
    "#         time.sleep(1)\n",
    "\n"
   ]
  },
  {
   "cell_type": "markdown",
   "metadata": {},
   "source": [
    "## Policies"
   ]
  },
  {
   "cell_type": "code",
   "execution_count": null,
   "metadata": {},
   "outputs": [],
   "source": [
    "\n",
    "def epsilon_greedy_policy(Qtable, state, epsilon):\n",
    "  \"\"\"\n",
    "  acting policy\n",
    "  1. Generates random number between 0 & 1\n",
    "  2. if number greater than epsilon -> exploitation (action with highest value to the current state) \n",
    "  3. else -> exploration (random action)\n",
    "  \"\"\"\n",
    "  random_int = random.uniform(0,1)\n",
    "  if random_int > epsilon:\n",
    "    action = np.argmax(Qtable[state])\n",
    "  else:\n",
    "    action = env.action_space.sample()\n",
    "  return action\n",
    "\n",
    "def greedy_policy(Qtable, state):\n",
    "  \"\"\"\n",
    "  updating policy\n",
    "  \"\"\"\n",
    "  action = np.argmax(Qtable[state]) # the action that the agent should take in order to maximize its reward\n",
    "  return action"
   ]
  },
  {
   "cell_type": "markdown",
   "metadata": {},
   "source": [
    "## Create and Initialize the Q-table\n"
   ]
  },
  {
   "cell_type": "code",
   "execution_count": null,
   "metadata": {},
   "outputs": [],
   "source": [
    "\n",
    "\n",
    "state_space = env.observation_space.n\n",
    "action_space = env.action_space.n\n",
    "print(f\"state: {state_space}, action: {action_space}\")\n",
    "\n",
    "Qtable_frozenlake = np.zeros((state_space, action_space)) # create a 16 x 4 Array for the q-table\n",
    "# 16x4 so it has a value for every state/action-pair\n",
    "plotQtable(Qtable_frozenlake) # <=========== todo: plot anpassen mit state & action beschreibung\n",
    "# each row represents a state from 0 to 15 (for a 4x4 map see variable \"desc\") and each column the actions right, left, up & down\n"
   ]
  },
  {
   "cell_type": "markdown",
   "metadata": {},
   "source": [
    "## Hyperparameters"
   ]
  },
  {
   "cell_type": "code",
   "execution_count": null,
   "metadata": {},
   "outputs": [],
   "source": [
    "# Hyperparameters, finetuning will give better results\n",
    "\n",
    "# Training parameters\n",
    "n_training_episodes = 100       # <================================== reduce for demo purpose, Original: 10000\n",
    "learning_rate = 0.9             # Original: 0.7\n",
    "\n",
    "# Evaluation parameters -> number of tries from the start till termination (hole or goal)\n",
    "n_eval_episodes = 100      \n",
    "\n",
    "# Environment parameters\n",
    "env_id = \"FrozenLake-v1\"   \n",
    "max_steps = 99            \n",
    "gamma = 0.95               \n",
    "eval_seed = []             \n",
    "\n",
    "# Exploration parameters\n",
    "max_epsilon = 1.0           \n",
    "min_epsilon = 0.05           \n",
    "decay_rate = 0.0095 # Original: decay_rate = 0.0005           "
   ]
  },
  {
   "cell_type": "markdown",
   "metadata": {},
   "source": [
    "### Show demo with rendering or show q-table, can't do both "
   ]
  },
  {
   "cell_type": "code",
   "execution_count": null,
   "metadata": {},
   "outputs": [],
   "source": [
    "show_qtable = True        # if FALSE: reduce n_training_episoded to 10 or 100, 10000 will take to long/ needs to be interrupted\n",
    "show_rendering = not show_qtable "
   ]
  },
  {
   "cell_type": "markdown",
   "metadata": {},
   "source": [
    "## Model Training"
   ]
  },
  {
   "cell_type": "code",
   "execution_count": null,
   "metadata": {},
   "outputs": [],
   "source": [
    "def train(n_training_episodes, min_epsilon, max_epsilon, decay_rate, env, max_steps, Qtable):\n",
    "  for episode in trange(n_training_episodes):\n",
    " \n",
    "    epsilon = min_epsilon + (max_epsilon - min_epsilon)*np.exp(-decay_rate*episode)\n",
    "    # Reset the environment\n",
    "    state = env.reset()\n",
    "    if show_rendering:\n",
    "      env.render()\n",
    "      print(f\"outer loop, episode {episode}\")\n",
    "    step = 0\n",
    "    done = False\n",
    "\n",
    "    # repeat\n",
    "    for step in range(max_steps):\n",
    "      action = epsilon_greedy_policy(Qtable, state, epsilon)\n",
    "\n",
    "   \n",
    "      new_state, reward, done, info = env.step(action)  # done value = value of start, frozen, Hole or Goal\n",
    "      if show_rendering:\n",
    "        print(f\"inner loop, step: {step}\")\n",
    "        env.render()\n",
    "      # time.sleep(1)\n",
    "   \n",
    "      Qtable[state][action] = Qtable[state][action] + learning_rate * (reward + gamma * np.max(Qtable[new_state]) - Qtable[state][action])\n",
    "      \n",
    "      # If done, finish the episode\n",
    "      if done:\n",
    "        # env.reset()\n",
    "        # env.render()\n",
    "        # time.sleep(1)\n",
    "        break\n",
    "     \n",
    "      # Our state is the new state\n",
    "      state = new_state\n",
    "  if show_qtable:\n",
    "    updateQtablePlot(Qtable)\n",
    "  return Qtable"
   ]
  },
  {
   "cell_type": "code",
   "execution_count": null,
   "metadata": {},
   "outputs": [],
   "source": [
    "#BEFORE RUNNING THIS CELL -> Check if the Nr of Iteration is the one you want to prevent waiting too long/needing to interrupt\n",
    "# Trains the Agent on this specific environment\n",
    "Qtable_frozenlake = train(n_training_episodes, min_epsilon, max_epsilon, decay_rate, env, max_steps, Qtable_frozenlake)"
   ]
  },
  {
   "cell_type": "markdown",
   "metadata": {},
   "source": [
    "### Save Q-Table to Excel"
   ]
  },
  {
   "cell_type": "code",
   "execution_count": null,
   "metadata": {},
   "outputs": [],
   "source": [
    "pdQtable = pd.DataFrame(Qtable_frozenlake)\n",
    "# pdQtable.to_Excel(\"Qtable_frozenlake.xlsx\") # not able to append as is \n",
    "# possible todo: append strings of states and/or actions to qtable so it is labeled ni the excel\n",
    "with pd.ExcelWriter('Qtable_frozenlake.xlsx',mode='a',if_sheet_exists=\"new\") as writer: \n",
    "    pdQtable.to_excel(writer, sheet_name='notControlledSheet')"
   ]
  },
  {
   "cell_type": "markdown",
   "metadata": {},
   "source": [
    "## Evaluation"
   ]
  },
  {
   "cell_type": "code",
   "execution_count": null,
   "metadata": {},
   "outputs": [],
   "source": [
    "def evaluate_agent(env, max_steps, n_eval_episodes, Q, seed):\n",
    "\n",
    "  episode_rewards = []\n",
    "  for episode in range(n_eval_episodes):\n",
    "    if seed:\n",
    "      state = env.reset(seed=seed[episode])\n",
    "    else:\n",
    "      state = env.reset()\n",
    "    step = 0\n",
    "    done = False\n",
    "    total_rewards_ep = 0\n",
    "   \n",
    "    for step in range(max_steps):\n",
    "      # Take the action (index) that have the maximum reward\n",
    "      action = np.argmax(Q[state][:])\n",
    "      new_state, reward, done, info = env.step(action)\n",
    "      total_rewards_ep += reward\n",
    "       \n",
    "      if done:\n",
    "        break\n",
    "      state = new_state\n",
    "    episode_rewards.append(total_rewards_ep)\n",
    "  mean_reward = np.mean(episode_rewards)\n",
    "  std_reward = np.std(episode_rewards)\n",
    "\n",
    "  return mean_reward, std_reward"
   ]
  }
 ],
 "metadata": {
  "kernelspec": {
   "display_name": "Python 3",
   "language": "python",
   "name": "python3"
  },
  "language_info": {
   "codemirror_mode": {
    "name": "ipython",
    "version": 3
   },
   "file_extension": ".py",
   "mimetype": "text/x-python",
   "name": "python",
   "nbconvert_exporter": "python",
   "pygments_lexer": "ipython3",
   "version": "3.11.3"
  }
 },
 "nbformat": 4,
 "nbformat_minor": 2
}
